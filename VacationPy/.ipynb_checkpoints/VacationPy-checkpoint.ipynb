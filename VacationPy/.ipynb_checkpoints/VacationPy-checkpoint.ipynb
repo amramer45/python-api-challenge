{
 "cells": [
  {
   "cell_type": "markdown",
   "metadata": {},
   "source": [
    "# VacationPy\n",
    "----\n",
    "\n",
    "#### Note\n",
    "* Keep an eye on your API usage. Use https://developers.google.com/maps/reporting/gmp-reporting as reference for how to monitor your usage and billing.\n",
    "\n",
    "* Instructions have been included for each segment. You do not have to follow them exactly, but they are included to help you think through the steps."
   ]
  },
  {
   "cell_type": "code",
   "execution_count": 11,
   "metadata": {},
   "outputs": [],
   "source": [
    "# Dependencies and Setup\n",
    "import matplotlib.pyplot as plt\n",
    "import pandas as pd\n",
    "import numpy as np\n",
    "import requests\n",
    "import gmaps\n",
    "import os\n",
    "import json\n",
    "import time\n",
    "import gmaps.datasets\n",
    "\n",
    "# Import API key\n",
    "from api_keys import g_key"
   ]
  },
  {
   "cell_type": "markdown",
   "metadata": {},
   "source": [
    "### Store Part I results into DataFrame\n",
    "* Load the csv exported in Part I to a DataFrame"
   ]
  },
  {
   "cell_type": "code",
   "execution_count": 12,
   "metadata": {},
   "outputs": [
    {
     "data": {
      "text/html": [
       "<div>\n",
       "<style scoped>\n",
       "    .dataframe tbody tr th:only-of-type {\n",
       "        vertical-align: middle;\n",
       "    }\n",
       "\n",
       "    .dataframe tbody tr th {\n",
       "        vertical-align: top;\n",
       "    }\n",
       "\n",
       "    .dataframe thead th {\n",
       "        text-align: right;\n",
       "    }\n",
       "</style>\n",
       "<table border=\"1\" class=\"dataframe\">\n",
       "  <thead>\n",
       "    <tr style=\"text-align: right;\">\n",
       "      <th></th>\n",
       "      <th>City_ID</th>\n",
       "      <th>City</th>\n",
       "      <th>Lat</th>\n",
       "      <th>Lng</th>\n",
       "      <th>Max Temp</th>\n",
       "      <th>Humidity</th>\n",
       "      <th>Cloudiness</th>\n",
       "      <th>Wind Speed</th>\n",
       "      <th>Country</th>\n",
       "      <th>Date</th>\n",
       "    </tr>\n",
       "  </thead>\n",
       "  <tbody>\n",
       "    <tr>\n",
       "      <th>0</th>\n",
       "      <td>0</td>\n",
       "      <td>atuona</td>\n",
       "      <td>-9.8000</td>\n",
       "      <td>-139.0333</td>\n",
       "      <td>77.49</td>\n",
       "      <td>81</td>\n",
       "      <td>5</td>\n",
       "      <td>15.77</td>\n",
       "      <td>PF</td>\n",
       "      <td>1610408207</td>\n",
       "    </tr>\n",
       "    <tr>\n",
       "      <th>1</th>\n",
       "      <td>1</td>\n",
       "      <td>ribeira grande</td>\n",
       "      <td>38.5167</td>\n",
       "      <td>-28.7000</td>\n",
       "      <td>62.53</td>\n",
       "      <td>89</td>\n",
       "      <td>100</td>\n",
       "      <td>20.11</td>\n",
       "      <td>PT</td>\n",
       "      <td>1610408207</td>\n",
       "    </tr>\n",
       "    <tr>\n",
       "      <th>2</th>\n",
       "      <td>2</td>\n",
       "      <td>rikitea</td>\n",
       "      <td>-23.1203</td>\n",
       "      <td>-134.9692</td>\n",
       "      <td>78.40</td>\n",
       "      <td>77</td>\n",
       "      <td>95</td>\n",
       "      <td>18.39</td>\n",
       "      <td>PF</td>\n",
       "      <td>1610408208</td>\n",
       "    </tr>\n",
       "    <tr>\n",
       "      <th>3</th>\n",
       "      <td>3</td>\n",
       "      <td>vila velha</td>\n",
       "      <td>-20.3297</td>\n",
       "      <td>-40.2925</td>\n",
       "      <td>79.00</td>\n",
       "      <td>83</td>\n",
       "      <td>75</td>\n",
       "      <td>10.36</td>\n",
       "      <td>BR</td>\n",
       "      <td>1610408208</td>\n",
       "    </tr>\n",
       "    <tr>\n",
       "      <th>4</th>\n",
       "      <td>4</td>\n",
       "      <td>sinnamary</td>\n",
       "      <td>5.3833</td>\n",
       "      <td>-52.9500</td>\n",
       "      <td>77.68</td>\n",
       "      <td>85</td>\n",
       "      <td>43</td>\n",
       "      <td>12.62</td>\n",
       "      <td>GF</td>\n",
       "      <td>1610408208</td>\n",
       "    </tr>\n",
       "    <tr>\n",
       "      <th>...</th>\n",
       "      <td>...</td>\n",
       "      <td>...</td>\n",
       "      <td>...</td>\n",
       "      <td>...</td>\n",
       "      <td>...</td>\n",
       "      <td>...</td>\n",
       "      <td>...</td>\n",
       "      <td>...</td>\n",
       "      <td>...</td>\n",
       "      <td>...</td>\n",
       "    </tr>\n",
       "    <tr>\n",
       "      <th>537</th>\n",
       "      <td>537</td>\n",
       "      <td>cayenne</td>\n",
       "      <td>4.9333</td>\n",
       "      <td>-52.3333</td>\n",
       "      <td>77.00</td>\n",
       "      <td>100</td>\n",
       "      <td>75</td>\n",
       "      <td>5.75</td>\n",
       "      <td>GF</td>\n",
       "      <td>1610408273</td>\n",
       "    </tr>\n",
       "    <tr>\n",
       "      <th>538</th>\n",
       "      <td>538</td>\n",
       "      <td>raton</td>\n",
       "      <td>36.9034</td>\n",
       "      <td>-104.4391</td>\n",
       "      <td>37.40</td>\n",
       "      <td>41</td>\n",
       "      <td>1</td>\n",
       "      <td>8.05</td>\n",
       "      <td>US</td>\n",
       "      <td>1610408125</td>\n",
       "    </tr>\n",
       "    <tr>\n",
       "      <th>539</th>\n",
       "      <td>539</td>\n",
       "      <td>sidrolandia</td>\n",
       "      <td>-20.9319</td>\n",
       "      <td>-54.9614</td>\n",
       "      <td>82.40</td>\n",
       "      <td>61</td>\n",
       "      <td>40</td>\n",
       "      <td>6.91</td>\n",
       "      <td>BR</td>\n",
       "      <td>1610408273</td>\n",
       "    </tr>\n",
       "    <tr>\n",
       "      <th>540</th>\n",
       "      <td>540</td>\n",
       "      <td>gananoque</td>\n",
       "      <td>44.3334</td>\n",
       "      <td>-76.1661</td>\n",
       "      <td>32.00</td>\n",
       "      <td>1</td>\n",
       "      <td>100</td>\n",
       "      <td>11.18</td>\n",
       "      <td>CA</td>\n",
       "      <td>1610408273</td>\n",
       "    </tr>\n",
       "    <tr>\n",
       "      <th>541</th>\n",
       "      <td>541</td>\n",
       "      <td>beyneu</td>\n",
       "      <td>45.3167</td>\n",
       "      <td>55.2000</td>\n",
       "      <td>25.56</td>\n",
       "      <td>97</td>\n",
       "      <td>95</td>\n",
       "      <td>8.39</td>\n",
       "      <td>KZ</td>\n",
       "      <td>1610408273</td>\n",
       "    </tr>\n",
       "  </tbody>\n",
       "</table>\n",
       "<p>542 rows × 10 columns</p>\n",
       "</div>"
      ],
      "text/plain": [
       "     City_ID            City      Lat       Lng  Max Temp  Humidity  \\\n",
       "0          0          atuona  -9.8000 -139.0333     77.49        81   \n",
       "1          1  ribeira grande  38.5167  -28.7000     62.53        89   \n",
       "2          2         rikitea -23.1203 -134.9692     78.40        77   \n",
       "3          3      vila velha -20.3297  -40.2925     79.00        83   \n",
       "4          4       sinnamary   5.3833  -52.9500     77.68        85   \n",
       "..       ...             ...      ...       ...       ...       ...   \n",
       "537      537         cayenne   4.9333  -52.3333     77.00       100   \n",
       "538      538           raton  36.9034 -104.4391     37.40        41   \n",
       "539      539     sidrolandia -20.9319  -54.9614     82.40        61   \n",
       "540      540       gananoque  44.3334  -76.1661     32.00         1   \n",
       "541      541          beyneu  45.3167   55.2000     25.56        97   \n",
       "\n",
       "     Cloudiness  Wind Speed Country        Date  \n",
       "0             5       15.77      PF  1610408207  \n",
       "1           100       20.11      PT  1610408207  \n",
       "2            95       18.39      PF  1610408208  \n",
       "3            75       10.36      BR  1610408208  \n",
       "4            43       12.62      GF  1610408208  \n",
       "..          ...         ...     ...         ...  \n",
       "537          75        5.75      GF  1610408273  \n",
       "538           1        8.05      US  1610408125  \n",
       "539          40        6.91      BR  1610408273  \n",
       "540         100       11.18      CA  1610408273  \n",
       "541          95        8.39      KZ  1610408273  \n",
       "\n",
       "[542 rows x 10 columns]"
      ]
     },
     "execution_count": 12,
     "metadata": {},
     "output_type": "execute_result"
    }
   ],
   "source": [
    "weather_data = pd.read_csv('../WeatherPy/output_data/cities.csv')\n",
    "weather_data"
   ]
  },
  {
   "cell_type": "markdown",
   "metadata": {},
   "source": [
    "### Humidity Heatmap\n",
    "* Configure gmaps.\n",
    "* Use the Lat and Lng as locations and Humidity as the weight.\n",
    "* Add Heatmap layer to map."
   ]
  },
  {
   "cell_type": "code",
   "execution_count": 13,
   "metadata": {},
   "outputs": [],
   "source": [
    "gmaps.configure(g_key)"
   ]
  },
  {
   "cell_type": "code",
   "execution_count": 17,
   "metadata": {},
   "outputs": [],
   "source": [
    "#Store latitude and longitude in locations\n",
    "locations = weather_data[['Lat', 'Lng']]\n",
    "\n",
    "humidity = weather_data[\"Humidity\"]"
   ]
  },
  {
   "cell_type": "code",
   "execution_count": 18,
   "metadata": {},
   "outputs": [
    {
     "data": {
      "text/plain": [
       "<Figure size 432x288 with 0 Axes>"
      ]
     },
     "metadata": {},
     "output_type": "display_data"
    }
   ],
   "source": [
    "#Plot Heatmap\n",
    "fig = gmaps.figure(center=(46.0, -5.0), zoom_level=2)\n",
    "max_humidity = np.max(humidity)\n",
    "\n",
    "#Create heat layer\n",
    "heat_layer = gmaps.heatmap_layer(locations, weights = humidity, dissipating=False, max_intensity=100, point_radius=3, opacity=0.5)\n",
    "fig.add_layer(heat_layer)\n",
    "fig\n",
    "\n",
    "plt.savefig(\"output_data/heatmap.png\")"
   ]
  },
  {
   "cell_type": "markdown",
   "metadata": {},
   "source": [
    "### Create new DataFrame fitting weather criteria\n",
    "* Narrow down the cities to fit weather conditions.\n",
    "* Drop any rows will null values."
   ]
  },
  {
   "cell_type": "code",
   "execution_count": null,
   "metadata": {},
   "outputs": [],
   "source": [
    "#Narrow the dataframe\n",
    "narrowed_city_df = weather_data.loc[(weather_data[\"Max Temp\"] >= 70) & (weather_data[\"Max Temp\"] <= 80) & (weather_data[\"Wind Speed\"] <= 10) & (weather_data[\"Cloudiness\"] == 0)].dropna()\n",
    "narrowed_city_df"
   ]
  },
  {
   "cell_type": "markdown",
   "metadata": {},
   "source": [
    "### Hotel Map\n",
    "* Store into variable named `hotel_df`.\n",
    "* Add a \"Hotel Name\" column to the DataFrame.\n",
    "* Set parameters to search for hotels with 5000 meters.\n",
    "* Hit the Google Places API for each city's coordinates.\n",
    "* Store the first Hotel result into the DataFrame.\n",
    "* Plot markers on top of the heatmap."
   ]
  },
  {
   "cell_type": "code",
   "execution_count": null,
   "metadata": {},
   "outputs": [],
   "source": [
    "#Create a hotel dataframe\n",
    "hotel_df = narrowed_city_df.loc[:,[\"City\", \"Country\", \"Lat\", \"Lng\"]]\n",
    "hotel_df[\"Hotel Name\"] = \"\"\n",
    "hotel_df"
   ]
  },
  {
   "cell_type": "code",
   "execution_count": null,
   "metadata": {},
   "outputs": [],
   "source": [
    "base_url = \"https://maps.googleapis.com/maps/api/place/nearbysearch/json\"\n",
    "\n",
    "params = {\"type\" : \"hotel\",\n",
    "         \"keyword\" : \"hotel\",\n",
    "         \"radius\" : 5000,\n",
    "         \"key\" : g_key}"
   ]
  },
  {
   "cell_type": "code",
   "execution_count": null,
   "metadata": {},
   "outputs": [],
   "source": [
    "for index, row in hotel_df.iterrows():\n",
    "    lat = row[\"Lat\"]\n",
    "    lng = row[\"Lng\"]\n",
    "    city_name = row[\"City\"]"
   ]
  },
  {
   "cell_type": "code",
   "execution_count": null,
   "metadata": {},
   "outputs": [],
   "source": [
    "# NOTE: Do not change any of the code in this cell\n",
    "\n",
    "# Using the template add the hotel marks to the heatmap\n",
    "info_box_template = \"\"\"\n",
    "<dl>\n",
    "<dt>Name</dt><dd>{Hotel Name}</dd>\n",
    "<dt>City</dt><dd>{City}</dd>\n",
    "<dt>Country</dt><dd>{Country}</dd>\n",
    "</dl>\n",
    "\"\"\"\n",
    "# Store the DataFrame Row\n",
    "# NOTE: be sure to update with your DataFrame name\n",
    "hotel_info = [info_box_template.format(**row) for index, row in hotel_df.iterrows()]\n",
    "locations = hotel_df[[\"Lat\", \"Lng\"]]"
   ]
  },
  {
   "cell_type": "code",
   "execution_count": null,
   "metadata": {},
   "outputs": [],
   "source": [
    "# Add marker layer ontop of heat map\n",
    "markers = gmaps.marker_layer(locations, info_box_content = hotel_info)\n",
    "fig.add_layer(markers)\n",
    "\n",
    "# Display figure\n",
    "fig"
   ]
  },
  {
   "cell_type": "code",
   "execution_count": null,
   "metadata": {},
   "outputs": [],
   "source": []
  }
 ],
 "metadata": {
  "kernelspec": {
   "display_name": "Python [conda env:pythondata] *",
   "language": "python",
   "name": "conda-env-pythondata-py"
  },
  "language_info": {
   "codemirror_mode": {
    "name": "ipython",
    "version": 3
   },
   "file_extension": ".py",
   "mimetype": "text/x-python",
   "name": "python",
   "nbconvert_exporter": "python",
   "pygments_lexer": "ipython3",
   "version": "3.6.10"
  },
  "latex_envs": {
   "LaTeX_envs_menu_present": true,
   "autoclose": false,
   "autocomplete": true,
   "bibliofile": "biblio.bib",
   "cite_by": "apalike",
   "current_citInitial": 1,
   "eqLabelWithNumbers": true,
   "eqNumInitial": 1,
   "hotkeys": {
    "equation": "Ctrl-E",
    "itemize": "Ctrl-I"
   },
   "labels_anchors": false,
   "latex_user_defs": false,
   "report_style_numbering": false,
   "user_envs_cfg": false
  }
 },
 "nbformat": 4,
 "nbformat_minor": 4
}
